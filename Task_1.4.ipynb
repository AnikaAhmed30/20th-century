{
 "cells": [
  {
   "cell_type": "code",
   "execution_count": 2,
   "id": "e1e01acb-521f-4563-ba09-170c8e3d54af",
   "metadata": {},
   "outputs": [],
   "source": [
    "#Import Libraries\n",
    "import requests\n",
    "from bs4 import BeautifulSoup"
   ]
  },
  {
   "cell_type": "code",
   "execution_count": 3,
   "id": "f6cb14cf-6283-4b24-ac8e-93c4e965f51f",
   "metadata": {},
   "outputs": [],
   "source": [
    "#Get the URL content\n",
    "url = \"https://en.wikipedia.org/wiki/Key_events_of_the_20th_century\"\n",
    "page = requests.get(url)"
   ]
  },
  {
   "cell_type": "code",
   "execution_count": 5,
   "id": "7ee14ecc-c327-4c1b-b5ea-5ce8478101f2",
   "metadata": {},
   "outputs": [],
   "source": [
    "#Create soup object\n",
    "soup = BeautifulSoup(page.text, 'html.parser')"
   ]
  },
  {
   "cell_type": "code",
   "execution_count": 6,
   "id": "8af4f286-af0a-459d-8f54-2c9de0ffc67c",
   "metadata": {},
   "outputs": [],
   "source": [
    "#Extract and clean text\n",
    "text = soup.get_text()\n",
    "text = text.encode('utf-8')"
   ]
  },
  {
   "cell_type": "code",
   "execution_count": 8,
   "id": "0f1af3d3-9c66-478c-a1ad-4fb7f1a7ba13",
   "metadata": {},
   "outputs": [
    {
     "name": "stdout",
     "output_type": "stream",
     "text": [
      "Scraping complete and text saved.\n"
     ]
    }
   ],
   "source": [
    "#Save the text as .txt file\n",
    "with open('Key_Events_20th_Century.txt', 'wb') as f:\n",
    "    f.write(text)\n",
    "\n",
    "print(\"Scraping complete and text saved.\")"
   ]
  },
  {
   "cell_type": "code",
   "execution_count": null,
   "id": "a40fb55d-baec-451d-b93e-f1a5234e8b25",
   "metadata": {},
   "outputs": [],
   "source": []
  }
 ],
 "metadata": {
  "kernelspec": {
   "display_name": "Python [conda env:20th_century]",
   "language": "python",
   "name": "conda-env-20th_century-py"
  },
  "language_info": {
   "codemirror_mode": {
    "name": "ipython",
    "version": 3
   },
   "file_extension": ".py",
   "mimetype": "text/x-python",
   "name": "python",
   "nbconvert_exporter": "python",
   "pygments_lexer": "ipython3",
   "version": "3.11.13"
  }
 },
 "nbformat": 4,
 "nbformat_minor": 5
}
