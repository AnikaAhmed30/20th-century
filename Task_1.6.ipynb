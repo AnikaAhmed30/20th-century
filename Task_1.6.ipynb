{
 "cells": [
  {
   "cell_type": "code",
   "execution_count": 2,
   "id": "64d59e88-4ff1-4df4-9342-2556477e72d3",
   "metadata": {},
   "outputs": [
    {
     "name": "stdout",
     "output_type": "stream",
     "text": [
      "Collecting en-core-web-sm==3.4.1\n",
      "  Downloading https://github.com/explosion/spacy-models/releases/download/en_core_web_sm-3.4.1/en_core_web_sm-3.4.1-py3-none-any.whl (12.8 MB)\n",
      "     ---------------------------------------- 0.0/12.8 MB ? eta -:--:--\n",
      "     ---------------------------------------- 0.0/12.8 MB ? eta -:--:--\n",
      "     ---------------------------------------- 0.0/12.8 MB ? eta -:--:--\n",
      "     --- ------------------------------------ 1.0/12.8 MB 3.9 MB/s eta 0:00:04\n",
      "     ------------- -------------------------- 4.5/12.8 MB 9.9 MB/s eta 0:00:01\n",
      "     ------------------------ --------------- 7.9/12.8 MB 11.9 MB/s eta 0:00:01\n",
      "     ----------------------------- ---------- 9.4/12.8 MB 12.0 MB/s eta 0:00:01\n",
      "     ------------------------------ --------- 9.7/12.8 MB 10.8 MB/s eta 0:00:01\n",
      "     --------------------------------------- 12.8/12.8 MB 10.2 MB/s eta 0:00:00\n",
      "Requirement already satisfied: spacy<3.5.0,>=3.4.0 in c:\\users\\anika\\anaconda3\\envs\\new_20th_century\\lib\\site-packages (from en-core-web-sm==3.4.1) (3.4.3)\n",
      "Requirement already satisfied: spacy-legacy<3.1.0,>=3.0.10 in c:\\users\\anika\\anaconda3\\envs\\new_20th_century\\lib\\site-packages (from spacy<3.5.0,>=3.4.0->en-core-web-sm==3.4.1) (3.0.12)\n",
      "Requirement already satisfied: spacy-loggers<2.0.0,>=1.0.0 in c:\\users\\anika\\anaconda3\\envs\\new_20th_century\\lib\\site-packages (from spacy<3.5.0,>=3.4.0->en-core-web-sm==3.4.1) (1.0.5)\n",
      "Requirement already satisfied: murmurhash<1.1.0,>=0.28.0 in c:\\users\\anika\\anaconda3\\envs\\new_20th_century\\lib\\site-packages (from spacy<3.5.0,>=3.4.0->en-core-web-sm==3.4.1) (1.0.10)\n",
      "Requirement already satisfied: cymem<2.1.0,>=2.0.2 in c:\\users\\anika\\anaconda3\\envs\\new_20th_century\\lib\\site-packages (from spacy<3.5.0,>=3.4.0->en-core-web-sm==3.4.1) (2.0.11)\n",
      "Requirement already satisfied: preshed<3.1.0,>=3.0.2 in c:\\users\\anika\\anaconda3\\envs\\new_20th_century\\lib\\site-packages (from spacy<3.5.0,>=3.4.0->en-core-web-sm==3.4.1) (3.0.9)\n",
      "Requirement already satisfied: thinc<8.2.0,>=8.1.0 in c:\\users\\anika\\anaconda3\\envs\\new_20th_century\\lib\\site-packages (from spacy<3.5.0,>=3.4.0->en-core-web-sm==3.4.1) (8.1.12)\n",
      "Requirement already satisfied: wasabi<1.1.0,>=0.9.1 in c:\\users\\anika\\anaconda3\\envs\\new_20th_century\\lib\\site-packages (from spacy<3.5.0,>=3.4.0->en-core-web-sm==3.4.1) (0.10.1)\n",
      "Requirement already satisfied: srsly<3.0.0,>=2.4.3 in c:\\users\\anika\\anaconda3\\envs\\new_20th_century\\lib\\site-packages (from spacy<3.5.0,>=3.4.0->en-core-web-sm==3.4.1) (2.5.1)\n",
      "Requirement already satisfied: catalogue<2.1.0,>=2.0.6 in c:\\users\\anika\\anaconda3\\envs\\new_20th_century\\lib\\site-packages (from spacy<3.5.0,>=3.4.0->en-core-web-sm==3.4.1) (2.0.10)\n",
      "Requirement already satisfied: typer<0.8.0,>=0.3.0 in c:\\users\\anika\\anaconda3\\envs\\new_20th_century\\lib\\site-packages (from spacy<3.5.0,>=3.4.0->en-core-web-sm==3.4.1) (0.4.2)\n",
      "Requirement already satisfied: pathy>=0.3.5 in c:\\users\\anika\\anaconda3\\envs\\new_20th_century\\lib\\site-packages (from spacy<3.5.0,>=3.4.0->en-core-web-sm==3.4.1) (0.10.2)\n",
      "Requirement already satisfied: tqdm<5.0.0,>=4.38.0 in c:\\users\\anika\\anaconda3\\envs\\new_20th_century\\lib\\site-packages (from spacy<3.5.0,>=3.4.0->en-core-web-sm==3.4.1) (4.67.1)\n",
      "Requirement already satisfied: numpy>=1.15.0 in c:\\users\\anika\\anaconda3\\envs\\new_20th_century\\lib\\site-packages (from spacy<3.5.0,>=3.4.0->en-core-web-sm==3.4.1) (1.25.2)\n",
      "Requirement already satisfied: requests<3.0.0,>=2.13.0 in c:\\users\\anika\\anaconda3\\envs\\new_20th_century\\lib\\site-packages (from spacy<3.5.0,>=3.4.0->en-core-web-sm==3.4.1) (2.32.4)\n",
      "Requirement already satisfied: pydantic!=1.8,!=1.8.1,<1.11.0,>=1.7.4 in c:\\users\\anika\\anaconda3\\envs\\new_20th_century\\lib\\site-packages (from spacy<3.5.0,>=3.4.0->en-core-web-sm==3.4.1) (1.10.21)\n",
      "Requirement already satisfied: jinja2 in c:\\users\\anika\\anaconda3\\envs\\new_20th_century\\lib\\site-packages (from spacy<3.5.0,>=3.4.0->en-core-web-sm==3.4.1) (3.1.6)\n",
      "Requirement already satisfied: setuptools in c:\\users\\anika\\anaconda3\\envs\\new_20th_century\\lib\\site-packages (from spacy<3.5.0,>=3.4.0->en-core-web-sm==3.4.1) (78.1.1)\n",
      "Requirement already satisfied: packaging>=20.0 in c:\\users\\anika\\anaconda3\\envs\\new_20th_century\\lib\\site-packages (from spacy<3.5.0,>=3.4.0->en-core-web-sm==3.4.1) (25.0)\n",
      "Requirement already satisfied: langcodes<4.0.0,>=3.2.0 in c:\\users\\anika\\anaconda3\\envs\\new_20th_century\\lib\\site-packages (from spacy<3.5.0,>=3.4.0->en-core-web-sm==3.4.1) (3.4.1)\n",
      "Requirement already satisfied: language-data>=1.2 in c:\\users\\anika\\anaconda3\\envs\\new_20th_century\\lib\\site-packages (from langcodes<4.0.0,>=3.2.0->spacy<3.5.0,>=3.4.0->en-core-web-sm==3.4.1) (1.3.0)\n",
      "Requirement already satisfied: typing-extensions>=4.2.0 in c:\\users\\anika\\anaconda3\\envs\\new_20th_century\\lib\\site-packages (from pydantic!=1.8,!=1.8.1,<1.11.0,>=1.7.4->spacy<3.5.0,>=3.4.0->en-core-web-sm==3.4.1) (4.12.2)\n",
      "Requirement already satisfied: charset_normalizer<4,>=2 in c:\\users\\anika\\anaconda3\\envs\\new_20th_century\\lib\\site-packages (from requests<3.0.0,>=2.13.0->spacy<3.5.0,>=3.4.0->en-core-web-sm==3.4.1) (3.4.2)\n",
      "Requirement already satisfied: idna<4,>=2.5 in c:\\users\\anika\\anaconda3\\envs\\new_20th_century\\lib\\site-packages (from requests<3.0.0,>=2.13.0->spacy<3.5.0,>=3.4.0->en-core-web-sm==3.4.1) (3.10)\n",
      "Requirement already satisfied: urllib3<3,>=1.21.1 in c:\\users\\anika\\anaconda3\\envs\\new_20th_century\\lib\\site-packages (from requests<3.0.0,>=2.13.0->spacy<3.5.0,>=3.4.0->en-core-web-sm==3.4.1) (2.5.0)\n",
      "Requirement already satisfied: certifi>=2017.4.17 in c:\\users\\anika\\anaconda3\\envs\\new_20th_century\\lib\\site-packages (from requests<3.0.0,>=2.13.0->spacy<3.5.0,>=3.4.0->en-core-web-sm==3.4.1) (2025.8.3)\n",
      "Requirement already satisfied: cloudpickle>=2.2.0 in c:\\users\\anika\\anaconda3\\envs\\new_20th_century\\lib\\site-packages (from srsly<3.0.0,>=2.4.3->spacy<3.5.0,>=3.4.0->en-core-web-sm==3.4.1) (3.1.1)\n",
      "Requirement already satisfied: ujson>=1.35 in c:\\users\\anika\\anaconda3\\envs\\new_20th_century\\lib\\site-packages (from srsly<3.0.0,>=2.4.3->spacy<3.5.0,>=3.4.0->en-core-web-sm==3.4.1) (5.10.0)\n",
      "Requirement already satisfied: blis<0.8.0,>=0.7.8 in c:\\users\\anika\\anaconda3\\envs\\new_20th_century\\lib\\site-packages (from thinc<8.2.0,>=8.1.0->spacy<3.5.0,>=3.4.0->en-core-web-sm==3.4.1) (0.7.10)\n",
      "Requirement already satisfied: confection<1.0.0,>=0.0.1 in c:\\users\\anika\\anaconda3\\envs\\new_20th_century\\lib\\site-packages (from thinc<8.2.0,>=8.1.0->spacy<3.5.0,>=3.4.0->en-core-web-sm==3.4.1) (0.1.5)\n",
      "Requirement already satisfied: colorama in c:\\users\\anika\\anaconda3\\envs\\new_20th_century\\lib\\site-packages (from tqdm<5.0.0,>=4.38.0->spacy<3.5.0,>=3.4.0->en-core-web-sm==3.4.1) (0.4.6)\n",
      "Requirement already satisfied: click<9.0.0,>=7.1.1 in c:\\users\\anika\\anaconda3\\envs\\new_20th_century\\lib\\site-packages (from typer<0.8.0,>=0.3.0->spacy<3.5.0,>=3.4.0->en-core-web-sm==3.4.1) (8.2.1)\n",
      "Requirement already satisfied: marisa-trie>=1.1.0 in c:\\users\\anika\\anaconda3\\envs\\new_20th_century\\lib\\site-packages (from language-data>=1.2->langcodes<4.0.0,>=3.2.0->spacy<3.5.0,>=3.4.0->en-core-web-sm==3.4.1) (1.2.1)\n",
      "Requirement already satisfied: smart-open<7.0.0,>=5.2.1 in c:\\users\\anika\\anaconda3\\envs\\new_20th_century\\lib\\site-packages (from pathy>=0.3.5->spacy<3.5.0,>=3.4.0->en-core-web-sm==3.4.1) (5.2.1)\n",
      "Requirement already satisfied: MarkupSafe>=2.0 in c:\\users\\anika\\anaconda3\\envs\\new_20th_century\\lib\\site-packages (from jinja2->spacy<3.5.0,>=3.4.0->en-core-web-sm==3.4.1) (3.0.2)\n",
      "[+] Download and installation successful\n",
      "You can now load the package via spacy.load('en_core_web_sm')\n"
     ]
    }
   ],
   "source": [
    "import pandas as pd \n",
    "import numpy as np\n",
    "import spacy\n",
    "from spacy import displacy\n",
    "import networkx as nx\n",
    "import os\n",
    "import matplotlib.pyplot as plt\n",
    "import scipy\n",
    "import re\n",
    "\n",
    "!python -m spacy download en_core_web_sm\n",
    "\n",
    "# Load spacy English module\n",
    "\n",
    "NER = spacy.load(\"en_core_web_sm\")"
   ]
  },
  {
   "cell_type": "code",
   "execution_count": 3,
   "id": "a6e13524-5fcc-47ff-a596-6161b779cf9f",
   "metadata": {},
   "outputs": [
    {
     "name": "stdout",
     "output_type": "stream",
     "text": [
      "    Key events of the 20th century - Wikipedia                            Jump to content        Main menu      Main menu move to sidebar hide    \t\tNavigation \t   Main pageContentsCurrent eventsRandom articleAbout WikipediaContact us      \t\tContribute \t   HelpLearn to editCommunity portalRecent changesUpload fileSpecial pages                    Search            Search                       Appearance                 Donate  Create account  Log in         Personal tools      Donate Create account Log in      \t\tPages for logged out editors learn more    ContributionsTalk                             Contents move to sidebar hide     (Top)      1 Historic events in the 20th century     Toggle Historic events in the 20th century subsection      1.1 World at the beginning of the century       1.1.1 \"The war to end all wars\": World War I (1914â€“1918)           1.2 Spanish flu       1.2.1 Russian Revolution and communism           1.3 Between the wars       1.3.1 Economic depression         1.3.2 The rise of dictatorship           1.4 Global war: World War II (1939â€“1945)       1.4.1 The war in Europe         1.4.2 Blitzkrieg         1.4.3 Operation Barbarossa         1.4.4 Turning tides         1.4.5 Operation Overlord         1.4.6 Final days         1.4.7 The war in the Pacific       1.4.7.1 Background           1.4.8 Japanese Expansion         1.4.9 Allied offensive         1.4.10 Final days         1.4.11 The Holocaust         1.4.12 The Nuclear Age begins           1.5 The post-war world       1.5.1 The end of empires: decolonization         1.5.2 The Cold War (1947â€“1991)         1.5.3 War by proxy         1.5.4 The space race         1.5.5 The end of the Cold War         1.5.6 Information and communications technology           1.6 The world at the end of the century           2 See also         3 References         4 Sources         5 External links                   Toggle the table of contents        Key events of the 20th century    2 languages     Ø§Ù„Ø¹Ø±Ø¨ÙŠØ©Ð£ÐºÑ€Ð°Ñ—Ð½ÑÑŒÐºÐ°  Edit links            ArticleTalk      English                  ReadEditView history        Tools      Tools move to sidebar hide    \t\tActions \t   ReadEditView history      \t\tGeneral \t   What links hereRelated changesUpload filePermanent linkPage informationCite this pageGet shortened URLDownload QR code      \t\tPrint/export \t   Download as PDFPrintable version      \t\tIn other projects \t   Wikimedia CommonsWikidata item                      Appearance move to sidebar hide           From Wikipedia, the free encyclopedia    The 20th century changed the world in unprecedented ways. The World Wars sparked tension between countries and led to the creation of atomic bombs, the Cold War led to the Space Race and the creation of space-based rockets, and the World Wide Web was created. These advancements have played a significant role in citizens' lives and shaped the 21st century into what it is today.   Historic events in the 20th century[edit] World at the beginning of the century[edit] Main article: Edwardian era The new beginning of the 20th century marked significant changes. The 1900s saw the decade herald a series of inventions, including the automobile, airplane and radio broadcasting. 1914 saw the completion of the Panama Canal. The Scramble for Africa continued in the 1900s and resulted in wars and genocide across the continent. The atrocities in the Congo Free State shocked the civilized world. From 1914 to 1918, the First World War, and its aftermath, caused major changes in the power balance of the world, destroying or transforming some of the most powerful empires.  \"The war to end all wars\": World War I (1914â€“1918)[edit] Main article: World War I Arrest of a suspect in Sarajevo following the Assassination of Archduke Franz Ferdinand The First World War (or simply WWI), termed \"The Great War\" by contemporaries, started in July 1914 and ended in November 1918. The war was precipitated by the Assassination in Sarajevo of the Austro-Hungarian Empire's heir to the throne, Erzherzog Franz Ferdinand, by Gavrilo Princip, a member of the Young Bosnia liberation movement. After a period of diplomatic and military escalation known as the July Crisis, by the end of July 1914 two coalitions were at war: the Allies, comprised initially of the British Empire, France, and the Russian Empire; and the Central Powers, comprised initially of the German Empire and Austria-Hungary.[1][2] In 1917, Russia ended hostile actions against the Central Powers after the fall of the Tsar. The Bolsheviks negotiated the Treaty of Brest-Litovsk with Germany, although it was a huge cost to Russia. In the treaty, Bolshevik Russia ceded the Baltic states to Germany, and its province of Kars Oblast in the South Caucasus to the Ottoman Empire. It also recognized the independence of Ukraine.[3] Although Germany shifted huge forces from the eastern to the western front after signing the treaty, it was unable to stop the Allied advance, especially with th\n"
     ]
    }
   ],
   "source": [
    "#Open file\n",
    "with open(\"Key_Events_20th_Century.txt\", \"r\", errors=\"ignore\") as file:\n",
    "    data = file.read().replace('\\n', ' ')\n",
    "#Display a preview to inspect\n",
    "print(data[:5000])"
   ]
  },
  {
   "cell_type": "code",
   "execution_count": 4,
   "id": "1ef60e90-ba75-431e-81b4-1d75bec40cc8",
   "metadata": {},
   "outputs": [],
   "source": [
    "#Observations:\n",
    "#The text includes Wikipedia navigation and special characters\n",
    "#Country Names inconsistencies exist\n",
    "#Some lines have extra newlines or tabs from wiki formatting.\n",
    "#Clean by removing wiki artifacts, extra whitespace, and non-content sections"
   ]
  },
  {
   "cell_type": "code",
   "execution_count": 5,
   "id": "04e4460e-ec1d-4c50-8e43-cfdfb615a84a",
   "metadata": {},
   "outputs": [],
   "source": [
    "# Clean the text: Remove wiki artifacts, references, and extra whitespace\n",
    "# Remove [edit]\n",
    "cleaned_text = re.sub(r'\\[edit\\]', '', data) \n",
    "# Remove references like [123]\n",
    "cleaned_text = re.sub(r'\\[\\d+\\]', '', cleaned_text)  \n",
    "# Remove ^\n",
    "cleaned_text = re.sub(r'\\^', '', cleaned_text)  \n",
    "# Remove headers/footers\n",
    "cleaned_text = re.sub(r'Jump to content|Main menu|move to sidebar|hide|Navigation|Main pageContentsCurrent eventsRandom articleAbout WikipediaContact us|Contribute|HelpLearn to editCommunity portalRecent changesUpload fileSpecial pages|Search|Appearance|Donate|Create account|Log in|Personal tools|Pages for logged out editors learn more|ContributionsTalk|Toggle the table of contents|languages|Edit links|ArticleTalk|English|ReadEditView history|Tools|Actions|General|What links hereRelated changesUpload filePermanent linkPage informationCite this pageGet shortened URLDownload QR code|Print/export|Download as PDFPrintable version|In other projects|Wikimedia CommonsWikidata item|From Wikipedia, the free encyclopedia|Retrieved from.*', '', cleaned_text, flags=re.DOTALL)\n",
    "# Normalize whitespace\n",
    "cleaned_text = re.sub(r'\\s+', ' ', cleaned_text)  \n",
    "\n",
    "cleaned_text = cleaned_text.strip()"
   ]
  },
  {
   "cell_type": "code",
   "execution_count": 6,
   "id": "10dea24d-b536-4557-ac30-1e1f5fb8e347",
   "metadata": {},
   "outputs": [
    {
     "name": "stdout",
     "output_type": "stream",
     "text": [
      "Key events of the 20th century - Wikipedia Contents (Top) 1 Historic events in the 20th century Toggle Historic events in the 20th century subsection 1.1 World at the beginning of the century 1.1.1 \"The war to end all wars\": World War I (1914â€“1918) 1.2 Spanish flu 1.2.1 Russian Revolution and communism 1.3 Between the wars 1.3.1 Economic depression 1.3.2 The rise of dictatorship 1.4 Global war: World War II (1939â€“1945) 1.4.1 The war in Europe 1.4.2 Blitzkrieg 1.4.3 Operation Barbarossa 1.4.4 Turning tides 1.4.5 Operation Overlord 1.4.6 Final days 1.4.7 The war in the Pacific 1.4.7.1 Background 1.4.8 Japanese Expansion 1.4.9 Allied offensive 1.4.10 Final days 1.4.11 The Holocaust 1.4.12 The Nuclear Age begins 1.5 The post-war world 1.5.1 The end of empires: decolonization 1.5.2 The Cold War (1947â€“1991) 1.5.3 War by proxy 1.5.4 The space race 1.5.5 The end of the Cold War 1.5.6 Information and communications technology 1.6 The world at the end of the century 2 See also 3 References\n"
     ]
    }
   ],
   "source": [
    "# Save cleaned text as .txt\n",
    "with open(\"Cleaned_Key_Events_20th_Century.txt\", \"w\", encoding=\"utf-8\") as file:\n",
    "    file.write(cleaned_text)\n",
    "\n",
    "# Preview cleaned text\n",
    "print(cleaned_text[:1000])"
   ]
  },
  {
   "cell_type": "code",
   "execution_count": 7,
   "id": "4506b0bb-5bec-4ed5-98d3-170aa0700259",
   "metadata": {},
   "outputs": [],
   "source": [
    "# Process the cleaned text with spaCy NER\n",
    "doc = NER(cleaned_text)"
   ]
  },
  {
   "cell_type": "code",
   "execution_count": 8,
   "id": "ee587a19-fd7c-4555-be9c-2f076fbe3aba",
   "metadata": {},
   "outputs": [
    {
     "name": "stdout",
     "output_type": "stream",
     "text": [
      "                                            sentence  \\\n",
      "0  Key events of the 20th century - Wikipedia Con...   \n",
      "1  The rise of dictatorship 1.4 Global war: World...   \n",
      "2  The war in Europe 1.4.2 Blitzkrieg 1.4.3 Opera...   \n",
      "3  Turning tides 1.4.5 Operation Overlord 1.4.6 F...   \n",
      "4    1.4.9 Allied offensive 1.4.10 Final days 1.4.11   \n",
      "\n",
      "                                            entities  \n",
      "0  [the 20th century, 1, the 20th century, Toggle...  \n",
      "1                  [1.4 Global, World War II, 1.4.1]  \n",
      "2                                    [Europe, 1.4.4]  \n",
      "3         [Operation Overlord 1.4.6 Final, Japanese]  \n",
      "4               [1.4.9, Allied, 1.4.10, days 1.4.11]  \n"
     ]
    }
   ],
   "source": [
    "# Create a list of sentences and entities\n",
    "df_sentences = []\n",
    "for sent in doc.sents:\n",
    "    entity_list = [ent.text for ent in sent.ents]\n",
    "    df_sentences.append({\"sentence\": sent.text, \"entities\": entity_list})\n",
    "\n",
    "df_sentences = pd.DataFrame(df_sentences)\n",
    "\n",
    "\n",
    "print(df_sentences.head())"
   ]
  },
  {
   "cell_type": "code",
   "execution_count": 9,
   "id": "ec00077a-b721-4247-b5ba-5e5f712682d9",
   "metadata": {},
   "outputs": [],
   "source": [
    "# Load countries list\n",
    "countries_df = pd.read_csv(\"countries_list_20th_century_1.5.csv\")\n",
    "countries_df['country_name'] = countries_df['country_name'].str.strip().str.replace(r'^\"|\"$', '', regex=True)"
   ]
  },
  {
   "cell_type": "code",
   "execution_count": 10,
   "id": "6879ada1-dea9-403c-ade7-c99995e6dfb1",
   "metadata": {},
   "outputs": [],
   "source": [
    "# Define variation mapping for consistency\n",
    "country_variations = {\n",
    "    'US': 'United States',\n",
    "    'USA': 'United States',\n",
    "    'America': 'United States',\n",
    "    'Britain': 'United Kingdom',\n",
    "    'UK': 'United Kingdom',\n",
    "    'Soviet Union': 'Russia',\n",
    "    'USSR': 'Russia',\n",
    "    'Great Britain': 'United Kingdom',\n",
    "    'Congo Free State': 'Congo, Democratic Republic of the',\n",
    "    'Persia': 'Iran',\n",
    "    'North Korea': 'Korea, North',\n",
    "    'South Korea': 'Korea, South'}"
   ]
  },
  {
   "cell_type": "code",
   "execution_count": 11,
   "id": "cc476ee2-014c-4d6b-9d94-ba2bf81faf26",
   "metadata": {},
   "outputs": [],
   "source": [
    "# Define function to filter entities\n",
    "def filter_entity(ent_list, countries_df):\n",
    "    return [country_variations.get(ent, ent) for ent in ent_list if country_variations.get(ent, ent) in countries_df['country_name'].tolist()]"
   ]
  },
  {
   "cell_type": "code",
   "execution_count": 12,
   "id": "96bfb2cb-4b95-426f-9432-f8f8e58d6613",
   "metadata": {},
   "outputs": [],
   "source": [
    "# Apply filter\n",
    "df_sentences['country_entities'] = df_sentences['entities'].apply(lambda x: filter_entity(x, countries_df))"
   ]
  },
  {
   "cell_type": "code",
   "execution_count": 13,
   "id": "a9399734-b9b5-44f1-b2b7-b6525804f14f",
   "metadata": {},
   "outputs": [
    {
     "name": "stdout",
     "output_type": "stream",
     "text": [
      "                                             sentence  \\\n",
      "22  After a period of diplomatic and military esca...   \n",
      "23  In 1917, Russia ended hostile actions against ...   \n",
      "24  The Bolsheviks negotiated the Treaty of Brest-...   \n",
      "25  In the treaty, Bolshevik Russia ceded the Balt...   \n",
      "26    It also recognized the independence of Ukraine.   \n",
      "\n",
      "                                             entities  \\\n",
      "22  [the July Crisis, the end of July 1914, Britis...   \n",
      "23           [1917, Russia, the Central Powers, Tsar]   \n",
      "24     [the Treaty of Brest-Litovsk, Germany, Russia]   \n",
      "25  [Bolshevik Russia, Baltic, Germany, Kars Oblas...   \n",
      "26                                          [Ukraine]   \n",
      "\n",
      "              country_entities  \n",
      "22  [France, Austria, Hungary]  \n",
      "23                    [Russia]  \n",
      "24           [Germany, Russia]  \n",
      "25                   [Germany]  \n",
      "26                   [Ukraine]  \n"
     ]
    }
   ],
   "source": [
    "# Filter out rows with no countries\n",
    "df_sentences_filtered = df_sentences[df_sentences['country_entities'].map(len) > 0]\n",
    "\n",
    "print(df_sentences_filtered.head())"
   ]
  },
  {
   "cell_type": "code",
   "execution_count": 14,
   "id": "07c7be6c-de5c-4c90-a547-ccd0d529a1e0",
   "metadata": {},
   "outputs": [
    {
     "name": "stdout",
     "output_type": "stream",
     "text": [
      "    source   target\n",
      "0   France  Austria\n",
      "1  Austria  Hungary\n",
      "2   France  Austria\n",
      "3  Austria  Hungary\n",
      "4  Hungary   Russia\n",
      "5   France  Austria\n",
      "6  Austria  Hungary\n",
      "7  Hungary   Russia\n",
      "8   Russia  Germany\n",
      "9  Germany   Russia\n"
     ]
    }
   ],
   "source": [
    "# Create relationships\n",
    "relationships = []\n",
    "\n",
    "for i in range(df_sentences_filtered.index[-1]):\n",
    "    end_i = min(i + 5, df_sentences_filtered.index[-1])\n",
    "    char_list = sum((df_sentences_filtered.loc[i:end_i].country_entities), [])\n",
    "    char_unique = [char_list[i] for i in range(len(char_list)) if (i == 0) or char_list[i] != char_list[i-1]]\n",
    "    \n",
    "    if len(char_unique) > 1:\n",
    "        for idx, a in enumerate(char_unique[:-1]):\n",
    "            b = char_unique[idx + 1]\n",
    "            relationships.append({\"source\": a, \"target\": b})\n",
    "\n",
    "# Create DataFrame\n",
    "relationships_df = pd.DataFrame(relationships)\n",
    "\n",
    "# Preview\n",
    "print(relationships_df.head(10))"
   ]
  },
  {
   "cell_type": "code",
   "execution_count": 17,
   "id": "75806d13-6342-4afe-94c8-9e31f28a1fec",
   "metadata": {},
   "outputs": [],
   "source": [
    "#Sort each row alphabetically\n",
    "relationships_df = pd.DataFrame(\n",
    "    np.sort(relationships_df.values, axis=1),\n",
    "    columns=relationships_df.columns)"
   ]
  },
  {
   "cell_type": "code",
   "execution_count": 18,
   "id": "ad07d73d-048b-4fcc-9e8d-2ebd787c9a2f",
   "metadata": {},
   "outputs": [
    {
     "name": "stdout",
     "output_type": "stream",
     "text": [
      "    source          target  count\n",
      "0    Japan   United States     39\n",
      "1  Germany          Russia     33\n",
      "2  Germany           Italy     26\n",
      "3   France  United Kingdom     24\n",
      "4  Germany          Poland     20\n"
     ]
    }
   ],
   "source": [
    "relationship_counts = relationships_df.value_counts().reset_index(name=\"count\")\n",
    "\n",
    "print(relationship_counts.head())"
   ]
  },
  {
   "cell_type": "code",
   "execution_count": 21,
   "id": "5c0fb8ac-e11a-4094-8826-a18278b35136",
   "metadata": {},
   "outputs": [],
   "source": [
    "# Save to CSV\n",
    "relationship_counts.to_csv(\"country_relationships.csv\", index=False)"
   ]
  },
  {
   "cell_type": "code",
   "execution_count": null,
   "id": "02a8446e-9233-4c3b-953d-c52c1bf0982d",
   "metadata": {},
   "outputs": [],
   "source": []
  }
 ],
 "metadata": {
  "kernelspec": {
   "display_name": "Python [conda env:new_20th_century]",
   "language": "python",
   "name": "conda-env-new_20th_century-py"
  },
  "language_info": {
   "codemirror_mode": {
    "name": "ipython",
    "version": 3
   },
   "file_extension": ".py",
   "mimetype": "text/x-python",
   "name": "python",
   "nbconvert_exporter": "python",
   "pygments_lexer": "ipython3",
   "version": "3.10.18"
  }
 },
 "nbformat": 4,
 "nbformat_minor": 5
}
