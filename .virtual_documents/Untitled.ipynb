import pandas as pd
import numpy as np
import networkx as nx
import os
import matplotlib.pyplot as plt
from pyvis.network import Network
import seaborn as sns
import pyvis 


countries_df = pd.read_csv("country_relationships.csv")
countries_df.head()


#creating network objective
G = nx.from_pandas_edgelist(
    countries_df,
    source="source",
    target="target",
    create_using=nx.Graph())


#Static Graph
plt.figure(figsize=(10, 10))
pos = nx.kamada_kawai_layout(G)
nx.draw(G, pos, with_labels=True, node_color='red', edge_cmap=plt.cm.Blues)
plt.show()


#Interactive graph
net = Network(notebook=True, width="900px", height="800px", bgcolor="#222222", font_color="white")
net.from_nx(G)
net.show_buttons(filter_="physics")
net.repulsion()
net.show("countries_network.html")


#Leiden algorithm to detect any communities
from cdlib import algorithms
coms = algorithms.leiden(G)
new_com = coms.to_node_community_map()
dict_com = {k: v[0] for k, v in new_com.items()}


nx.set_node_attributes(G, dict_com, "group")

com_net = Network(notebook=True, width="1300px", height="700px", bgcolor="#222222", font_color="white")
com_net.from_nx(G)
com_net.show_buttons(filter_="physics")
com_net.repulsion()
com_net.show("countries_communities.html")



#Degree Centrality
degree_dict = nx.degree_centrality(G)
degree_dict


#closeness centrality
closeness_dict = nx.closeness_centrality(G)
closeness_dict


#betweenness centrality
betweenness_dict = nx.betweenness_centrality(G)
betweenness_dict


#Visualize for degree
degree_df = pd.DataFrame.from_dict(degree_dict, orient="index", columns=["degree"])
degree_df.sort_values("degree", ascending=False).plot(kind="bar", figsize=(12,6), legend=False, title="Degree Centrality")


#Visualize for Closeness
closeness_df = pd.DataFrame.from_dict(closeness_dict, orient="index", columns=["closeness"])
closeness_df.sort_values("closeness", ascending=False).plot(kind="bar", figsize=(12,6), legend=False, title="Closeness Centrality")


#Visualization for betweenness
betweenness_df = pd.DataFrame.from_dict(betweenness_dict, orient="index", columns=["betweenness"])
betweenness_df.sort_values("betweenness", ascending=False).plot(kind="bar", figsize=(12,6), legend=False, title="Betweenness Centrality")



